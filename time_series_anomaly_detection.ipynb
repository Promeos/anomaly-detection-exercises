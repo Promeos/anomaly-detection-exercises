{
 "cells": [
  {
   "cell_type": "markdown",
   "metadata": {},
   "source": [
    "# Time Series Anomaly Detection\n",
    "__Thursday 11/5/2020__\n",
    "\n",
    "### Dataset: Codeup curriculum access logs\n",
    "Our dataset contains approximately 3 years of unique timestamped access events to Codeup's cirriculum. Let's look at the definitions of each feature in our dataset.\n",
    "\n",
    "|Feature | Description | datatype |\n",
    "| :------ | :----------- | :---- |\n",
    "| `datetime` | Index of the dataset. The date and time a page was viewed by a user | DatetimeIndex |\n",
    "| `page_viewed` | The content the user accessed | object |\n",
    "| `user_id` | The user who accessed the curriculum | int64 |\n",
    "| `cohort_id` | The cohort the user is assigned to | int 64 |\n",
    "| `ip` | The ip address the user is using to access the curriculum | object |\n",
    "\n",
    "1. The context\n",
    "2. Questions to ask\n",
    "3. Which visualizations to use\n",
    "4. What type of statistical tests we can perform.\n",
    "\n",
    "\n",
    "### Exercises\n",
    "Discover users who are accessing our curriculum pages way beyond the end of their codeup time.\n",
    "\n",
    "### Questions\n",
    "1. What would the dataframe look like?\n",
    "> Use time series method for detecting anomalies, like exponential moving average with %b.\n",
    "\n",
    "2. Bonus: Can you label students who are viewing both the web dev and data science curriculum?\n",
    "> * Can you label students by the program they are in?\n",
    "> * Can you label users by student vs. staff?\n",
    "> * What are Zach, Maggie, Faith, and Ryan's ids?"
   ]
  },
  {
   "cell_type": "code",
   "execution_count": 1,
   "metadata": {},
   "outputs": [],
   "source": [
    "import pandas as pd\n",
    "import numpy as np\n",
    "from scipy.stats import entropy\n",
    "import matplotlib.pyplot as plt\n",
    "import seaborn as sns\n",
    "\n",
    "# import data wrangle functions\n",
    "import main\n",
    "import acquire\n",
    "import prepare"
   ]
  },
  {
   "cell_type": "markdown",
   "metadata": {},
   "source": [
    "# Wrangle"
   ]
  },
  {
   "cell_type": "code",
   "execution_count": 2,
   "metadata": {},
   "outputs": [],
   "source": [
    "# load the dataset\n",
    "df = acquire.get_cohort_log_data()"
   ]
  },
  {
   "cell_type": "code",
   "execution_count": 3,
   "metadata": {},
   "outputs": [],
   "source": [
    "df = prepare.prep_curriculum_log_data(df)"
   ]
  },
  {
   "cell_type": "code",
   "execution_count": 4,
   "metadata": {},
   "outputs": [
    {
     "name": "stdout",
     "output_type": "stream",
     "text": [
      "There are 719,459 rows and 4 features in the dataset.\n"
     ]
    },
    {
     "data": {
      "text/html": [
       "<div>\n",
       "<style scoped>\n",
       "    .dataframe tbody tr th:only-of-type {\n",
       "        vertical-align: middle;\n",
       "    }\n",
       "\n",
       "    .dataframe tbody tr th {\n",
       "        vertical-align: top;\n",
       "    }\n",
       "\n",
       "    .dataframe thead th {\n",
       "        text-align: right;\n",
       "    }\n",
       "</style>\n",
       "<table border=\"1\" class=\"dataframe\">\n",
       "  <thead>\n",
       "    <tr style=\"text-align: right;\">\n",
       "      <th></th>\n",
       "      <th>page_viewed</th>\n",
       "      <th>user_id</th>\n",
       "      <th>cohort_id</th>\n",
       "      <th>ip</th>\n",
       "    </tr>\n",
       "    <tr>\n",
       "      <th>datetime</th>\n",
       "      <th></th>\n",
       "      <th></th>\n",
       "      <th></th>\n",
       "      <th></th>\n",
       "    </tr>\n",
       "  </thead>\n",
       "  <tbody>\n",
       "    <tr>\n",
       "      <th>2018-01-26 09:55:03</th>\n",
       "      <td>/</td>\n",
       "      <td>1</td>\n",
       "      <td>8</td>\n",
       "      <td>97.105.19.61</td>\n",
       "    </tr>\n",
       "    <tr>\n",
       "      <th>2018-01-26 09:56:02</th>\n",
       "      <td>java-ii</td>\n",
       "      <td>1</td>\n",
       "      <td>8</td>\n",
       "      <td>97.105.19.61</td>\n",
       "    </tr>\n",
       "    <tr>\n",
       "      <th>2018-01-26 09:56:05</th>\n",
       "      <td>java-ii/object-oriented-programming</td>\n",
       "      <td>1</td>\n",
       "      <td>8</td>\n",
       "      <td>97.105.19.61</td>\n",
       "    </tr>\n",
       "    <tr>\n",
       "      <th>2018-01-26 09:56:06</th>\n",
       "      <td>slides/object_oriented_programming</td>\n",
       "      <td>1</td>\n",
       "      <td>8</td>\n",
       "      <td>97.105.19.61</td>\n",
       "    </tr>\n",
       "    <tr>\n",
       "      <th>2018-01-26 09:56:24</th>\n",
       "      <td>javascript-i/conditionals</td>\n",
       "      <td>2</td>\n",
       "      <td>22</td>\n",
       "      <td>97.105.19.61</td>\n",
       "    </tr>\n",
       "  </tbody>\n",
       "</table>\n",
       "</div>"
      ],
      "text/plain": [
       "                                             page_viewed  user_id  cohort_id  \\\n",
       "datetime                                                                       \n",
       "2018-01-26 09:55:03                                    /        1          8   \n",
       "2018-01-26 09:56:02                              java-ii        1          8   \n",
       "2018-01-26 09:56:05  java-ii/object-oriented-programming        1          8   \n",
       "2018-01-26 09:56:06   slides/object_oriented_programming        1          8   \n",
       "2018-01-26 09:56:24            javascript-i/conditionals        2         22   \n",
       "\n",
       "                               ip  \n",
       "datetime                           \n",
       "2018-01-26 09:55:03  97.105.19.61  \n",
       "2018-01-26 09:56:02  97.105.19.61  \n",
       "2018-01-26 09:56:05  97.105.19.61  \n",
       "2018-01-26 09:56:06  97.105.19.61  \n",
       "2018-01-26 09:56:24  97.105.19.61  "
      ]
     },
     "execution_count": 4,
     "metadata": {},
     "output_type": "execute_result"
    }
   ],
   "source": [
    "print(f'There are {df.shape[0]:,} rows and {df.shape[1]} features in the dataset.')\n",
    "# display the first 5 rows\n",
    "df.head()"
   ]
  },
  {
   "cell_type": "code",
   "execution_count": 5,
   "metadata": {},
   "outputs": [
    {
     "name": "stdout",
     "output_type": "stream",
     "text": [
      "<class 'pandas.core.frame.DataFrame'>\n",
      "DatetimeIndex: 719459 entries, 2018-01-26 09:55:03 to 2020-11-02 16:48:47\n",
      "Data columns (total 4 columns):\n",
      " #   Column       Non-Null Count   Dtype \n",
      "---  ------       --------------   ----- \n",
      " 0   page_viewed  719459 non-null  object\n",
      " 1   user_id      719459 non-null  int64 \n",
      " 2   cohort_id    719459 non-null  int64 \n",
      " 3   ip           719459 non-null  object\n",
      "dtypes: int64(2), object(2)\n",
      "memory usage: 27.4+ MB\n"
     ]
    }
   ],
   "source": [
    "df.info()"
   ]
  },
  {
   "cell_type": "code",
   "execution_count": 6,
   "metadata": {},
   "outputs": [
    {
     "data": {
      "image/png": "[encoded data removed]",
      "text/plain": [
       "<Figure size 936x432 with 2 Axes>"
      ]
     },
     "metadata": {
      "needs_background": "light"
     },
     "output_type": "display_data"
    }
   ],
   "source": [
    "df.hist(figsize=(13, 6),\n",
    "        grid=False,\n",
    "        bins=25);"
   ]
  },
  {
   "cell_type": "markdown",
   "metadata": {},
   "source": [
    "# Exploratory Data Analysis\n",
    "\n",
    "### Questions\n",
    "1. \n",
    "2. \n",
    "3. \n",
    "4. \n",
    "5. \n",
    "6. \n",
    "7. "
   ]
  },
  {
   "cell_type": "code",
   "execution_count": 7,
   "metadata": {},
   "outputs": [
    {
     "name": "stdout",
     "output_type": "stream",
     "text": [
      "Train size: 50.00%\n",
      "Validate size: 30.00%\n",
      "Test size: 20.00%\n"
     ]
    }
   ],
   "source": [
    "train_size = int(len(df) * .5)\n",
    "validate_size = int(len(df) * .3)\n",
    "test_size = int(len(df) - train_size - validate_size)\n",
    "validate_end_index = train_size + validate_size\n",
    "\n",
    "# split into train, validation, test\n",
    "train = df[: train_size]\n",
    "validate = df[train_size : validate_end_index]\n",
    "test = df[validate_end_index : ]\n",
    "\n",
    "print(f'Train size: {len(train) / len(df):.2%}')\n",
    "print(f'Validate size: {len(validate) / len(df):.2%}')\n",
    "print(f'Test size: {len(test) / len(df):.2%}')"
   ]
  },
  {
   "cell_type": "code",
   "execution_count": 8,
   "metadata": {},
   "outputs": [],
   "source": [
    "train_agg = train.groupby(['datetime', 'cohort_id'])['user_id'] \\\n",
    "                    .nunique() \\\n",
    "                    .reset_index() \\\n",
    "                    .rename(index=str, \n",
    "                            columns={'user_id': 'users_viewed'}) \\\n",
    "                    .set_index('datetime')"
   ]
  },
  {
   "cell_type": "code",
   "execution_count": 9,
   "metadata": {},
   "outputs": [
    {
     "data": {
      "text/html": [
       "<div>\n",
       "<style scoped>\n",
       "    .dataframe tbody tr th:only-of-type {\n",
       "        vertical-align: middle;\n",
       "    }\n",
       "\n",
       "    .dataframe tbody tr th {\n",
       "        vertical-align: top;\n",
       "    }\n",
       "\n",
       "    .dataframe thead th {\n",
       "        text-align: right;\n",
       "    }\n",
       "</style>\n",
       "<table border=\"1\" class=\"dataframe\">\n",
       "  <thead>\n",
       "    <tr style=\"text-align: right;\">\n",
       "      <th></th>\n",
       "      <th>cohort_id</th>\n",
       "      <th>users_viewed</th>\n",
       "    </tr>\n",
       "    <tr>\n",
       "      <th>datetime</th>\n",
       "      <th></th>\n",
       "      <th></th>\n",
       "    </tr>\n",
       "  </thead>\n",
       "  <tbody>\n",
       "    <tr>\n",
       "      <th>2018-01-26 09:55:03</th>\n",
       "      <td>8</td>\n",
       "      <td>1</td>\n",
       "    </tr>\n",
       "    <tr>\n",
       "      <th>2018-01-26 09:56:02</th>\n",
       "      <td>8</td>\n",
       "      <td>1</td>\n",
       "    </tr>\n",
       "    <tr>\n",
       "      <th>2018-01-26 09:56:05</th>\n",
       "      <td>8</td>\n",
       "      <td>1</td>\n",
       "    </tr>\n",
       "    <tr>\n",
       "      <th>2018-01-26 09:56:06</th>\n",
       "      <td>8</td>\n",
       "      <td>1</td>\n",
       "    </tr>\n",
       "    <tr>\n",
       "      <th>2018-01-26 09:56:24</th>\n",
       "      <td>22</td>\n",
       "      <td>1</td>\n",
       "    </tr>\n",
       "  </tbody>\n",
       "</table>\n",
       "</div>"
      ],
      "text/plain": [
       "                     cohort_id  users_viewed\n",
       "datetime                                    \n",
       "2018-01-26 09:55:03          8             1\n",
       "2018-01-26 09:56:02          8             1\n",
       "2018-01-26 09:56:05          8             1\n",
       "2018-01-26 09:56:06          8             1\n",
       "2018-01-26 09:56:24         22             1"
      ]
     },
     "execution_count": 9,
     "metadata": {},
     "output_type": "execute_result"
    }
   ],
   "source": [
    "train_agg.head()"
   ]
  },
  {
   "cell_type": "code",
   "execution_count": 18,
   "metadata": {},
   "outputs": [],
   "source": [
    "# create hourly aggregated datasets\n",
    "train_hourly_1hr = train_agg.resample('H').users_viewed.agg(['sum'])\n",
    "train_hourly_1hr.rename(columns={'sum': 'times_viewed'}, inplace=True)\n",
    "\n",
    "train_hourly_1hr['hour'] = train_hourly_1hr.index.hour\n",
    "train_hourly_1hr['access_type'] = pd.cut(train_hourly_1hr['hour'],\n",
    "                                         bins=[0, 9, 17, 24],\n",
    "                                         labels=['Before Class', 'During Class', 'After Class'])\n",
    "\n",
    "# create daily aggregated datasets\n",
    "train_daily_1d = train_agg.resample('D').users_viewed.agg(['sum'])\n",
    "train_daily_1d.rename(columns={'sum': 'times_viewed'}, inplace=True)\n",
    "train_daily_1d['day_of_week'] = train_daily_1d.index.day_name()\n",
    "\n",
    "# create  weekely aggregated datasets\n",
    "train_weekly_1w = train_agg.resample('W').users_viewed.agg(['sum'])\n",
    "train_weekly_1w.rename(columns={'sum': 'times_viewed'}, inplace=True)\n",
    "train_weekly_1w['week_num'] = train_weekly_1w.index.isocalendar().week"
   ]
  },
  {
   "cell_type": "markdown",
   "metadata": {},
   "source": [
    "# Hourly Logs"
   ]
  },
  {
   "cell_type": "code",
   "execution_count": 19,
   "metadata": {},
   "outputs": [
    {
     "data": {
      "image/png": "[encoded data removed]",
      "text/plain": [
       "<Figure size 1152x720 with 1 Axes>"
      ]
     },
     "metadata": {
      "needs_background": "light"
     },
     "output_type": "display_data"
    }
   ],
   "source": [
    "plt.figure(figsize=(16,10))\n",
    "sns.boxplot(x=train_hourly_1hr['hour'],\n",
    "            y=train_hourly_1hr.times_viewed,\n",
    "            whis=3)\n",
    "plt.title('When do students access the curriculum?', fontsize=14)\n",
    "plt.tick_params(labelsize=14, pad=5)\n",
    "plt.xlabel('Hour', fontsize=14)\n",
    "plt.ylabel('Number of Views', fontsize=14);"
   ]
  },
  {
   "cell_type": "code",
   "execution_count": 20,
   "metadata": {},
   "outputs": [
    {
     "data": {
      "image/png": "[encoded data removed]",
      "text/plain": [
       "<Figure size 1152x720 with 1 Axes>"
      ]
     },
     "metadata": {
      "needs_background": "light"
     },
     "output_type": "display_data"
    }
   ],
   "source": [
    "plt.figure(figsize=(16,10))\n",
    "sns.boxplot(x=train_hourly_1hr.access_type,\n",
    "            y=train_hourly_1hr.times_viewed,\n",
    "            whis=3)\n",
    "plt.title('When do students access the curriculum?', fontsize=14)\n",
    "plt.tick_params(labelsize=14, pad=5)\n",
    "plt.xlabel('')\n",
    "plt.ylabel('Number of Views', fontsize=14);"
   ]
  },
  {
   "cell_type": "code",
   "execution_count": 21,
   "metadata": {},
   "outputs": [
    {
     "data": {
      "text/html": [
       "<div>\n",
       "<style scoped>\n",
       "    .dataframe tbody tr th:only-of-type {\n",
       "        vertical-align: middle;\n",
       "    }\n",
       "\n",
       "    .dataframe tbody tr th {\n",
       "        vertical-align: top;\n",
       "    }\n",
       "\n",
       "    .dataframe thead th {\n",
       "        text-align: right;\n",
       "    }\n",
       "</style>\n",
       "<table border=\"1\" class=\"dataframe\">\n",
       "  <thead>\n",
       "    <tr style=\"text-align: right;\">\n",
       "      <th></th>\n",
       "      <th>times_viewed</th>\n",
       "      <th>hour</th>\n",
       "      <th>access_type</th>\n",
       "    </tr>\n",
       "    <tr>\n",
       "      <th>datetime</th>\n",
       "      <th></th>\n",
       "      <th></th>\n",
       "      <th></th>\n",
       "    </tr>\n",
       "  </thead>\n",
       "  <tbody>\n",
       "    <tr>\n",
       "      <th>2018-01-26 09:00:00</th>\n",
       "      <td>11</td>\n",
       "      <td>9</td>\n",
       "      <td>Before Class</td>\n",
       "    </tr>\n",
       "    <tr>\n",
       "      <th>2018-01-26 10:00:00</th>\n",
       "      <td>62</td>\n",
       "      <td>10</td>\n",
       "      <td>During Class</td>\n",
       "    </tr>\n",
       "    <tr>\n",
       "      <th>2018-01-26 11:00:00</th>\n",
       "      <td>101</td>\n",
       "      <td>11</td>\n",
       "      <td>During Class</td>\n",
       "    </tr>\n",
       "    <tr>\n",
       "      <th>2018-01-26 12:00:00</th>\n",
       "      <td>27</td>\n",
       "      <td>12</td>\n",
       "      <td>During Class</td>\n",
       "    </tr>\n",
       "    <tr>\n",
       "      <th>2018-01-26 13:00:00</th>\n",
       "      <td>52</td>\n",
       "      <td>13</td>\n",
       "      <td>During Class</td>\n",
       "    </tr>\n",
       "  </tbody>\n",
       "</table>\n",
       "</div>"
      ],
      "text/plain": [
       "                     times_viewed  hour   access_type\n",
       "datetime                                             \n",
       "2018-01-26 09:00:00            11     9  Before Class\n",
       "2018-01-26 10:00:00            62    10  During Class\n",
       "2018-01-26 11:00:00           101    11  During Class\n",
       "2018-01-26 12:00:00            27    12  During Class\n",
       "2018-01-26 13:00:00            52    13  During Class"
      ]
     },
     "execution_count": 21,
     "metadata": {},
     "output_type": "execute_result"
    }
   ],
   "source": [
    "train_hourly_1hr.head()"
   ]
  },
  {
   "cell_type": "markdown",
   "metadata": {},
   "source": [
    "# Daily Logs"
   ]
  },
  {
   "cell_type": "code",
   "execution_count": 22,
   "metadata": {},
   "outputs": [
    {
     "data": {
      "image/png": "[encoded data removed]",
      "text/plain": [
       "<Figure size 1152x720 with 1 Axes>"
      ]
     },
     "metadata": {
      "needs_background": "light"
     },
     "output_type": "display_data"
    }
   ],
   "source": [
    "plt.figure(figsize=(16,10))\n",
    "sns.boxplot(x=train_daily_1d.day_of_week,\n",
    "            y=train_daily_1d['times_viewed'],\n",
    "            order=['Sunday', 'Monday', 'Tuesday', 'Wednesday', 'Thursday', 'Friday', 'Saturday'],\n",
    "            whis=3)\n",
    "plt.title('When do students access the curriculum?', fontsize=14)\n",
    "plt.tick_params(labelsize=14, pad=5)\n",
    "plt.xlabel('')\n",
    "plt.ylabel('Number of Views', fontsize=14);"
   ]
  },
  {
   "cell_type": "code",
   "execution_count": null,
   "metadata": {},
   "outputs": [],
   "source": []
  },
  {
   "cell_type": "code",
   "execution_count": 23,
   "metadata": {},
   "outputs": [],
   "source": [
    "def compute_entropy(series):\n",
    "    counts = series.value_counts()\n",
    "    if len(counts)==1:\n",
    "        ent = 0\n",
    "    else:\n",
    "        value, counts = np.unique(series, return_counts=True)\n",
    "        ent = entropy(counts, base=None)\n",
    "    return ent"
   ]
  },
  {
   "cell_type": "code",
   "execution_count": 16,
   "metadata": {},
   "outputs": [
    {
     "ename": "NameError",
     "evalue": "name 'df_agg' is not defined",
     "output_type": "error",
     "traceback": [
      "\u001b[0;31m---------------------------------------------------------------------------\u001b[0m",
      "\u001b[0;31mNameError\u001b[0m                                 Traceback (most recent call last)",
      "\u001b[0;32m<ipython-input-16-cfbcbc33b082>\u001b[0m in \u001b[0;36m<module>\u001b[0;34m\u001b[0m\n\u001b[0;32m----> 1\u001b[0;31m \u001b[0mcompute_entropy\u001b[0m\u001b[0;34m(\u001b[0m\u001b[0mdf_agg\u001b[0m\u001b[0;34m.\u001b[0m\u001b[0musers_viewed\u001b[0m\u001b[0;34m)\u001b[0m\u001b[0;34m\u001b[0m\u001b[0;34m\u001b[0m\u001b[0m\n\u001b[0m",
      "\u001b[0;31mNameError\u001b[0m: name 'df_agg' is not defined"
     ]
    }
   ],
   "source": [
    "compute_entropy(df_agg.users_viewed)"
   ]
  }
 ],
 "metadata": {
  "kernelspec": {
   "display_name": "Python 3",
   "language": "python",
   "name": "python3"
  },
  "language_info": {
   "codemirror_mode": {
    "name": "ipython",
    "version": 3
   },
   "file_extension": ".py",
   "mimetype": "text/x-python",
   "name": "python",
   "nbconvert_exporter": "python",
   "pygments_lexer": "ipython3",
   "version": "3.7.6"
  }
 },
 "nbformat": 4,
 "nbformat_minor": 4
}
