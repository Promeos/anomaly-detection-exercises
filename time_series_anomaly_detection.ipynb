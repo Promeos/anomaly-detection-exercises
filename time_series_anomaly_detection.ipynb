{
 "cells": [
  {
   "cell_type": "markdown",
   "metadata": {},
   "source": [
    "# Time Series Anomaly Detection\n",
    "__Thursday 11/5/2020__\n",
    "\n",
    "### Dataset: Codeup curriculum access logs\n",
    "Our dataset contains approximately 3 years of unique timestamped access events to Codeup's cirriculum.\n",
    "\n",
    "Each row contains a:\n",
    "- Date\n",
    "- Time\n",
    "- Page accessed\n",
    "- User ID\n",
    "- Cohort ID\n",
    "- ip address"
   ]
  },
  {
   "cell_type": "code",
   "execution_count": 278,
   "metadata": {},
   "outputs": [],
   "source": [
    "import pandas as pd\n",
    "import numpy as np\n",
    "from scipy.stats import entropy\n",
    "import matplotlib.pyplot as plt\n",
    "import seaborn as sns\n",
    "from sklearn.model_selection import train_test_split\n",
    "\n",
    "# import data wrangle functions\n",
    "import main\n",
    "import acquire"
   ]
  },
  {
   "cell_type": "markdown",
   "metadata": {},
   "source": [
    "# Wrangle"
   ]
  },
  {
   "cell_type": "code",
   "execution_count": 106,
   "metadata": {},
   "outputs": [],
   "source": [
    "# load the dataset\n",
    "df = acquire.get_cohort_log_data()"
   ]
  },
  {
   "cell_type": "code",
   "execution_count": 107,
   "metadata": {},
   "outputs": [
    {
     "name": "stdout",
     "output_type": "stream",
     "text": [
      "There are 719,459 rows and 6 features in the dataset.\n"
     ]
    },
    {
     "data": {
      "text/html": [
       "<div>\n",
       "<style scoped>\n",
       "    .dataframe tbody tr th:only-of-type {\n",
       "        vertical-align: middle;\n",
       "    }\n",
       "\n",
       "    .dataframe tbody tr th {\n",
       "        vertical-align: top;\n",
       "    }\n",
       "\n",
       "    .dataframe thead th {\n",
       "        text-align: right;\n",
       "    }\n",
       "</style>\n",
       "<table border=\"1\" class=\"dataframe\">\n",
       "  <thead>\n",
       "    <tr style=\"text-align: right;\">\n",
       "      <th></th>\n",
       "      <th>date</th>\n",
       "      <th>time</th>\n",
       "      <th>page_viewed</th>\n",
       "      <th>user_id</th>\n",
       "      <th>cohort_id</th>\n",
       "      <th>ip</th>\n",
       "    </tr>\n",
       "    <tr>\n",
       "      <th>datetime</th>\n",
       "      <th></th>\n",
       "      <th></th>\n",
       "      <th></th>\n",
       "      <th></th>\n",
       "      <th></th>\n",
       "      <th></th>\n",
       "    </tr>\n",
       "  </thead>\n",
       "  <tbody>\n",
       "    <tr>\n",
       "      <th>2018-01-26 09:55:03</th>\n",
       "      <td>2018-01-26</td>\n",
       "      <td>09:55:03</td>\n",
       "      <td>/</td>\n",
       "      <td>1</td>\n",
       "      <td>8</td>\n",
       "      <td>97.105.19.61</td>\n",
       "    </tr>\n",
       "    <tr>\n",
       "      <th>2018-01-26 09:56:02</th>\n",
       "      <td>2018-01-26</td>\n",
       "      <td>09:56:02</td>\n",
       "      <td>java-ii</td>\n",
       "      <td>1</td>\n",
       "      <td>8</td>\n",
       "      <td>97.105.19.61</td>\n",
       "    </tr>\n",
       "    <tr>\n",
       "      <th>2018-01-26 09:56:05</th>\n",
       "      <td>2018-01-26</td>\n",
       "      <td>09:56:05</td>\n",
       "      <td>java-ii/object-oriented-programming</td>\n",
       "      <td>1</td>\n",
       "      <td>8</td>\n",
       "      <td>97.105.19.61</td>\n",
       "    </tr>\n",
       "    <tr>\n",
       "      <th>2018-01-26 09:56:06</th>\n",
       "      <td>2018-01-26</td>\n",
       "      <td>09:56:06</td>\n",
       "      <td>slides/object_oriented_programming</td>\n",
       "      <td>1</td>\n",
       "      <td>8</td>\n",
       "      <td>97.105.19.61</td>\n",
       "    </tr>\n",
       "    <tr>\n",
       "      <th>2018-01-26 09:56:24</th>\n",
       "      <td>2018-01-26</td>\n",
       "      <td>09:56:24</td>\n",
       "      <td>javascript-i/conditionals</td>\n",
       "      <td>2</td>\n",
       "      <td>22</td>\n",
       "      <td>97.105.19.61</td>\n",
       "    </tr>\n",
       "  </tbody>\n",
       "</table>\n",
       "</div>"
      ],
      "text/plain": [
       "                          date      time                          page_viewed  \\\n",
       "datetime                                                                        \n",
       "2018-01-26 09:55:03 2018-01-26  09:55:03                                    /   \n",
       "2018-01-26 09:56:02 2018-01-26  09:56:02                              java-ii   \n",
       "2018-01-26 09:56:05 2018-01-26  09:56:05  java-ii/object-oriented-programming   \n",
       "2018-01-26 09:56:06 2018-01-26  09:56:06   slides/object_oriented_programming   \n",
       "2018-01-26 09:56:24 2018-01-26  09:56:24            javascript-i/conditionals   \n",
       "\n",
       "                     user_id  cohort_id            ip  \n",
       "datetime                                               \n",
       "2018-01-26 09:55:03        1          8  97.105.19.61  \n",
       "2018-01-26 09:56:02        1          8  97.105.19.61  \n",
       "2018-01-26 09:56:05        1          8  97.105.19.61  \n",
       "2018-01-26 09:56:06        1          8  97.105.19.61  \n",
       "2018-01-26 09:56:24        2         22  97.105.19.61  "
      ]
     },
     "execution_count": 107,
     "metadata": {},
     "output_type": "execute_result"
    }
   ],
   "source": [
    "print(f'There are {df.shape[0]:,} rows and {df.shape[1]} features in the dataset.')\n",
    "# display the first 5 rows\n",
    "df.head()"
   ]
  },
  {
   "cell_type": "code",
   "execution_count": 108,
   "metadata": {},
   "outputs": [
    {
     "name": "stdout",
     "output_type": "stream",
     "text": [
      "<class 'pandas.core.frame.DataFrame'>\n",
      "DatetimeIndex: 719459 entries, 2018-01-26 09:55:03 to 2020-11-02 16:48:47\n",
      "Data columns (total 6 columns):\n",
      " #   Column       Non-Null Count   Dtype         \n",
      "---  ------       --------------   -----         \n",
      " 0   date         719459 non-null  datetime64[ns]\n",
      " 1   time         719459 non-null  object        \n",
      " 2   page_viewed  719459 non-null  object        \n",
      " 3   user_id      719459 non-null  int64         \n",
      " 4   cohort_id    719459 non-null  int64         \n",
      " 5   ip           719459 non-null  object        \n",
      "dtypes: datetime64[ns](1), int64(2), object(3)\n",
      "memory usage: 38.4+ MB\n"
     ]
    }
   ],
   "source": [
    "df.info()"
   ]
  },
  {
   "cell_type": "code",
   "execution_count": 109,
   "metadata": {},
   "outputs": [
    {
     "data": {
      "image/png": "[encoded data removed]",
      "text/plain": [
       "<Figure size 936x432 with 2 Axes>"
      ]
     },
     "metadata": {
      "needs_background": "light"
     },
     "output_type": "display_data"
    }
   ],
   "source": [
    "df.hist(figsize=(13, 6),\n",
    "        grid=False,\n",
    "        bins=25);"
   ]
  },
  {
   "cell_type": "code",
   "execution_count": 237,
   "metadata": {},
   "outputs": [],
   "source": [
    "# df.page_viewed.str.replace(r'[-_].*', '').value_counts().nlargest(20)"
   ]
  },
  {
   "cell_type": "markdown",
   "metadata": {},
   "source": [
    "# Exploratory Data Analysis"
   ]
  },
  {
   "cell_type": "code",
   "execution_count": null,
   "metadata": {},
   "outputs": [],
   "source": [
    "df_agg = df.groupby(['datetime', 'cohort_id'])['user_id'] \\\n",
    "                    .nunique() \\\n",
    "                    .reset_index() \\\n",
    "                    .rename(index=str, \n",
    "                            columns={'user_id': 'users_viewed'}) \\\n",
    "                    .set_index('datetime')"
   ]
  },
  {
   "cell_type": "code",
   "execution_count": 277,
   "metadata": {},
   "outputs": [
    {
     "data": {
      "text/html": [
       "<div>\n",
       "<style scoped>\n",
       "    .dataframe tbody tr th:only-of-type {\n",
       "        vertical-align: middle;\n",
       "    }\n",
       "\n",
       "    .dataframe tbody tr th {\n",
       "        vertical-align: top;\n",
       "    }\n",
       "\n",
       "    .dataframe thead th {\n",
       "        text-align: right;\n",
       "    }\n",
       "</style>\n",
       "<table border=\"1\" class=\"dataframe\">\n",
       "  <thead>\n",
       "    <tr style=\"text-align: right;\">\n",
       "      <th></th>\n",
       "      <th>cohort_id</th>\n",
       "      <th>users_viewed</th>\n",
       "    </tr>\n",
       "    <tr>\n",
       "      <th>datetime</th>\n",
       "      <th></th>\n",
       "      <th></th>\n",
       "    </tr>\n",
       "  </thead>\n",
       "  <tbody>\n",
       "    <tr>\n",
       "      <th>2018-01-26 09:55:03</th>\n",
       "      <td>8</td>\n",
       "      <td>1</td>\n",
       "    </tr>\n",
       "    <tr>\n",
       "      <th>2018-01-26 09:56:02</th>\n",
       "      <td>8</td>\n",
       "      <td>1</td>\n",
       "    </tr>\n",
       "    <tr>\n",
       "      <th>2018-01-26 09:56:05</th>\n",
       "      <td>8</td>\n",
       "      <td>1</td>\n",
       "    </tr>\n",
       "    <tr>\n",
       "      <th>2018-01-26 09:56:06</th>\n",
       "      <td>8</td>\n",
       "      <td>1</td>\n",
       "    </tr>\n",
       "    <tr>\n",
       "      <th>2018-01-26 09:56:24</th>\n",
       "      <td>22</td>\n",
       "      <td>1</td>\n",
       "    </tr>\n",
       "  </tbody>\n",
       "</table>\n",
       "</div>"
      ],
      "text/plain": [
       "                     cohort_id  users_viewed\n",
       "datetime                                    \n",
       "2018-01-26 09:55:03          8             1\n",
       "2018-01-26 09:56:02          8             1\n",
       "2018-01-26 09:56:05          8             1\n",
       "2018-01-26 09:56:06          8             1\n",
       "2018-01-26 09:56:24         22             1"
      ]
     },
     "execution_count": 277,
     "metadata": {},
     "output_type": "execute_result"
    }
   ],
   "source": [
    "df_agg.head()"
   ]
  },
  {
   "cell_type": "code",
   "execution_count": 294,
   "metadata": {},
   "outputs": [
    {
     "name": "stdout",
     "output_type": "stream",
     "text": [
      "Train size: 50.00%\n",
      "Validate size: 30.00%\n",
      "Test size: 20.00%\n"
     ]
    }
   ],
   "source": [
    "train_size = int(len(df_agg) * .5)\n",
    "validate_size = int(len(df_agg) * .3)\n",
    "test_size = int(len(df_agg) - train_size - validate_size)\n",
    "validate_end_index = train_size + validate_size\n",
    "\n",
    "# split into train, validation, test\n",
    "train = df_agg[: train_size]\n",
    "validate = df_agg[train_size : validate_end_index]\n",
    "test = df_agg[validate_end_index : ]\n",
    "\n",
    "print(f'Train size: {len(train) / len(df_agg):.2%}')\n",
    "print(f'Validate size: {len(validate) / len(df_agg):.2%}')\n",
    "print(f'Test size: {len(test) / len(df_agg):.2%}')"
   ]
  },
  {
   "cell_type": "code",
   "execution_count": 295,
   "metadata": {},
   "outputs": [
    {
     "data": {
      "text/html": [
       "<div>\n",
       "<style scoped>\n",
       "    .dataframe tbody tr th:only-of-type {\n",
       "        vertical-align: middle;\n",
       "    }\n",
       "\n",
       "    .dataframe tbody tr th {\n",
       "        vertical-align: top;\n",
       "    }\n",
       "\n",
       "    .dataframe thead th {\n",
       "        text-align: right;\n",
       "    }\n",
       "</style>\n",
       "<table border=\"1\" class=\"dataframe\">\n",
       "  <thead>\n",
       "    <tr style=\"text-align: right;\">\n",
       "      <th></th>\n",
       "      <th>cohort_id</th>\n",
       "      <th>users_viewed</th>\n",
       "    </tr>\n",
       "    <tr>\n",
       "      <th>datetime</th>\n",
       "      <th></th>\n",
       "      <th></th>\n",
       "    </tr>\n",
       "  </thead>\n",
       "  <tbody>\n",
       "    <tr>\n",
       "      <th>2018-01-26 09:55:03</th>\n",
       "      <td>8</td>\n",
       "      <td>1</td>\n",
       "    </tr>\n",
       "    <tr>\n",
       "      <th>2018-01-26 09:56:02</th>\n",
       "      <td>8</td>\n",
       "      <td>1</td>\n",
       "    </tr>\n",
       "    <tr>\n",
       "      <th>2018-01-26 09:56:05</th>\n",
       "      <td>8</td>\n",
       "      <td>1</td>\n",
       "    </tr>\n",
       "    <tr>\n",
       "      <th>2018-01-26 09:56:06</th>\n",
       "      <td>8</td>\n",
       "      <td>1</td>\n",
       "    </tr>\n",
       "    <tr>\n",
       "      <th>2018-01-26 09:56:24</th>\n",
       "      <td>22</td>\n",
       "      <td>1</td>\n",
       "    </tr>\n",
       "  </tbody>\n",
       "</table>\n",
       "</div>"
      ],
      "text/plain": [
       "                     cohort_id  users_viewed\n",
       "datetime                                    \n",
       "2018-01-26 09:55:03          8             1\n",
       "2018-01-26 09:56:02          8             1\n",
       "2018-01-26 09:56:05          8             1\n",
       "2018-01-26 09:56:06          8             1\n",
       "2018-01-26 09:56:24         22             1"
      ]
     },
     "execution_count": 295,
     "metadata": {},
     "output_type": "execute_result"
    }
   ],
   "source": [
    "train.head()"
   ]
  },
  {
   "cell_type": "code",
   "execution_count": 375,
   "metadata": {},
   "outputs": [],
   "source": [
    "# create hourly aggregated datasets\n",
    "train_hourly_1hr = train.resample('H').users_viewed.agg(['sum'])\n",
    "train_hourly_6hrs = train.resample('6H').users_viewed.agg(['sum'])\n",
    "train_hourly_12hrs = train.resample('12H').users_viewed.agg(['sum'])\n",
    "\n",
    "train_hourly_1hr.rename(columns={'sum': 'times_viewed'}, inplace=True)\n",
    "train_hourly_6hrs.rename(columns={'sum': 'times_viewed'}, inplace=True)\n",
    "train_hourly_12hrs.rename(columns={'sum': 'times_viewed'}, inplace=True)\n",
    "\n",
    "train_hourly_1hr['hour'] = train_hourly_1hr.index.hour\n",
    "train_hourly_6hrs['hour'] = train_hourly_6hrs.index.hour\n",
    "train_hourly_12hrs['hour'] = train_hourly_12hrs.index.hour\n",
    "\n",
    "train_hourly_1hr['access_type'] = pd.cut(train_hourly_1hr['hour'],\n",
    "                                         bins=[0, 9, 17, 24],\n",
    "                                         labels=['Before Class', 'During Class', 'After Class'])\n",
    "\n",
    "train_daily_1d = train.resample('D').users_viewed.agg(['sum'])\n",
    "\n",
    "train_daily_1d.rename(columns={'sum': 'times_viewed'}, inplace=True)\n",
    "train_daily_1d['day_of_week'] = train_daily_1d.index.day_name()"
   ]
  },
  {
   "cell_type": "markdown",
   "metadata": {},
   "source": [
    "# Hourly Logs"
   ]
  },
  {
   "cell_type": "code",
   "execution_count": 387,
   "metadata": {},
   "outputs": [
    {
     "data": {
      "image/png": "[encoded data removed]",
      "text/plain": [
       "<Figure size 1152x720 with 1 Axes>"
      ]
     },
     "metadata": {
      "needs_background": "light"
     },
     "output_type": "display_data"
    }
   ],
   "source": [
    "plt.figure(figsize=(16,10))\n",
    "sns.boxplot(x=train_hourly_1hr['hour'],\n",
    "            y=train_hourly_1hr.times_viewed)\n",
    "plt.title('When do students access the curriculum?', fontsize=14)\n",
    "plt.xlabel('Hour', fontsize=14)\n",
    "plt.ylabel('Number of Views', fontsize=14);"
   ]
  },
  {
   "cell_type": "code",
   "execution_count": 389,
   "metadata": {},
   "outputs": [
    {
     "data": {
      "image/png": "[encoded data removed]",
      "text/plain": [
       "<Figure size 1152x720 with 1 Axes>"
      ]
     },
     "metadata": {
      "needs_background": "light"
     },
     "output_type": "display_data"
    }
   ],
   "source": [
    "plt.figure(figsize=(16,10))\n",
    "sns.boxplot(x=train_hourly_1hr.access_type,\n",
    "            y=train_hourly_1hr.times_viewed)\n",
    "plt.title('When do students access the curriculum?', fontsize=14)\n",
    "plt.xlabel('')\n",
    "plt.ylabel('Number of Views', fontsize=14);"
   ]
  },
  {
   "cell_type": "code",
   "execution_count": 383,
   "metadata": {},
   "outputs": [
    {
     "data": {
      "text/html": [
       "<div>\n",
       "<style scoped>\n",
       "    .dataframe tbody tr th:only-of-type {\n",
       "        vertical-align: middle;\n",
       "    }\n",
       "\n",
       "    .dataframe tbody tr th {\n",
       "        vertical-align: top;\n",
       "    }\n",
       "\n",
       "    .dataframe thead th {\n",
       "        text-align: right;\n",
       "    }\n",
       "</style>\n",
       "<table border=\"1\" class=\"dataframe\">\n",
       "  <thead>\n",
       "    <tr style=\"text-align: right;\">\n",
       "      <th></th>\n",
       "      <th>times_viewed</th>\n",
       "      <th>hour</th>\n",
       "      <th>access_type</th>\n",
       "    </tr>\n",
       "    <tr>\n",
       "      <th>datetime</th>\n",
       "      <th></th>\n",
       "      <th></th>\n",
       "      <th></th>\n",
       "    </tr>\n",
       "  </thead>\n",
       "  <tbody>\n",
       "    <tr>\n",
       "      <th>2018-01-26 09:00:00</th>\n",
       "      <td>11</td>\n",
       "      <td>9</td>\n",
       "      <td>Before Class</td>\n",
       "    </tr>\n",
       "    <tr>\n",
       "      <th>2018-01-26 10:00:00</th>\n",
       "      <td>62</td>\n",
       "      <td>10</td>\n",
       "      <td>During Class</td>\n",
       "    </tr>\n",
       "    <tr>\n",
       "      <th>2018-01-26 11:00:00</th>\n",
       "      <td>101</td>\n",
       "      <td>11</td>\n",
       "      <td>During Class</td>\n",
       "    </tr>\n",
       "    <tr>\n",
       "      <th>2018-01-26 12:00:00</th>\n",
       "      <td>27</td>\n",
       "      <td>12</td>\n",
       "      <td>During Class</td>\n",
       "    </tr>\n",
       "    <tr>\n",
       "      <th>2018-01-26 13:00:00</th>\n",
       "      <td>52</td>\n",
       "      <td>13</td>\n",
       "      <td>During Class</td>\n",
       "    </tr>\n",
       "  </tbody>\n",
       "</table>\n",
       "</div>"
      ],
      "text/plain": [
       "                     times_viewed  hour   access_type\n",
       "datetime                                             \n",
       "2018-01-26 09:00:00            11     9  Before Class\n",
       "2018-01-26 10:00:00            62    10  During Class\n",
       "2018-01-26 11:00:00           101    11  During Class\n",
       "2018-01-26 12:00:00            27    12  During Class\n",
       "2018-01-26 13:00:00            52    13  During Class"
      ]
     },
     "execution_count": 383,
     "metadata": {},
     "output_type": "execute_result"
    }
   ],
   "source": [
    "train_hourly_1hr.head()"
   ]
  },
  {
   "cell_type": "code",
   "execution_count": 397,
   "metadata": {},
   "outputs": [
    {
     "data": {
      "image/png": "[encoded data removed]",
      "text/plain": [
       "<Figure size 1152x720 with 1 Axes>"
      ]
     },
     "metadata": {
      "needs_background": "light"
     },
     "output_type": "display_data"
    }
   ],
   "source": [
    "plt.figure(figsize=(16,10))\n",
    "sns.boxplot(x=train_hourly_6hrs['hour'],\n",
    "            y=train_hourly_6hrs['times_viewed'])\n",
    "plt.title('When do students access the curriculum?', fontsize=14)\n",
    "plt.xlabel('Hour (24H)', fontsize=14)\n",
    "plt.ylabel('Number of Views', fontsize=14);"
   ]
  },
  {
   "cell_type": "code",
   "execution_count": 380,
   "metadata": {},
   "outputs": [
    {
     "data": {
      "text/html": [
       "<div>\n",
       "<style scoped>\n",
       "    .dataframe tbody tr th:only-of-type {\n",
       "        vertical-align: middle;\n",
       "    }\n",
       "\n",
       "    .dataframe tbody tr th {\n",
       "        vertical-align: top;\n",
       "    }\n",
       "\n",
       "    .dataframe thead th {\n",
       "        text-align: right;\n",
       "    }\n",
       "</style>\n",
       "<table border=\"1\" class=\"dataframe\">\n",
       "  <thead>\n",
       "    <tr style=\"text-align: right;\">\n",
       "      <th></th>\n",
       "      <th>times_viewed</th>\n",
       "      <th>hour</th>\n",
       "    </tr>\n",
       "    <tr>\n",
       "      <th>datetime</th>\n",
       "      <th></th>\n",
       "      <th></th>\n",
       "    </tr>\n",
       "  </thead>\n",
       "  <tbody>\n",
       "    <tr>\n",
       "      <th>2018-01-26 06:00:00</th>\n",
       "      <td>174</td>\n",
       "      <td>6</td>\n",
       "    </tr>\n",
       "    <tr>\n",
       "      <th>2018-01-26 12:00:00</th>\n",
       "      <td>245</td>\n",
       "      <td>12</td>\n",
       "    </tr>\n",
       "    <tr>\n",
       "      <th>2018-01-26 18:00:00</th>\n",
       "      <td>144</td>\n",
       "      <td>18</td>\n",
       "    </tr>\n",
       "    <tr>\n",
       "      <th>2018-01-27 00:00:00</th>\n",
       "      <td>20</td>\n",
       "      <td>0</td>\n",
       "    </tr>\n",
       "    <tr>\n",
       "      <th>2018-01-27 06:00:00</th>\n",
       "      <td>51</td>\n",
       "      <td>6</td>\n",
       "    </tr>\n",
       "  </tbody>\n",
       "</table>\n",
       "</div>"
      ],
      "text/plain": [
       "                     times_viewed  hour\n",
       "datetime                               \n",
       "2018-01-26 06:00:00           174     6\n",
       "2018-01-26 12:00:00           245    12\n",
       "2018-01-26 18:00:00           144    18\n",
       "2018-01-27 00:00:00            20     0\n",
       "2018-01-27 06:00:00            51     6"
      ]
     },
     "execution_count": 380,
     "metadata": {},
     "output_type": "execute_result"
    }
   ],
   "source": [
    "train_hourly_6hrs.head()"
   ]
  },
  {
   "cell_type": "markdown",
   "metadata": {},
   "source": [
    "# Daily Logs"
   ]
  },
  {
   "cell_type": "code",
   "execution_count": 393,
   "metadata": {},
   "outputs": [
    {
     "data": {
      "image/png": "[encoded data removed]",
      "text/plain": [
       "<Figure size 1152x720 with 1 Axes>"
      ]
     },
     "metadata": {
      "needs_background": "light"
     },
     "output_type": "display_data"
    }
   ],
   "source": [
    "plt.figure(figsize=(16,10))\n",
    "sns.boxplot(x=train_daily_1d.day_of_week,\n",
    "            y=train_daily_1d['times_viewed'],\n",
    "            order=['Sunday', 'Monday', 'Tuesday', 'Wednesday', 'Thursday', 'Friday', 'Saturday'])\n",
    "plt.title('When do students access the curriculum?', fontsize=14)\n",
    "plt.xlabel('')\n",
    "plt.ylabel('Number of Views', fontsize=14);"
   ]
  },
  {
   "cell_type": "code",
   "execution_count": 302,
   "metadata": {},
   "outputs": [],
   "source": [
    "def compute_entropy(series):\n",
    "    counts = series.value_counts()\n",
    "    if len(counts)==1:\n",
    "        ent = 0\n",
    "    else:\n",
    "        value, counts = np.unique(series, return_counts=True)\n",
    "        ent = entropy(counts, base=None)\n",
    "    return ent"
   ]
  },
  {
   "cell_type": "code",
   "execution_count": 60,
   "metadata": {},
   "outputs": [
    {
     "data": {
      "text/plain": [
       "2.3384810332856345"
      ]
     },
     "execution_count": 60,
     "metadata": {},
     "output_type": "execute_result"
    }
   ],
   "source": [
    "compute_entropy(df_agg.users_viewed)"
   ]
  }
 ],
 "metadata": {
  "kernelspec": {
   "display_name": "Python 3",
   "language": "python",
   "name": "python3"
  },
  "language_info": {
   "codemirror_mode": {
    "name": "ipython",
    "version": 3
   },
   "file_extension": ".py",
   "mimetype": "text/x-python",
   "name": "python",
   "nbconvert_exporter": "python",
   "pygments_lexer": "ipython3",
   "version": "3.7.6"
  }
 },
 "nbformat": 4,
 "nbformat_minor": 4
}
