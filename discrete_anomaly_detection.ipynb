{
 "cells": [
  {
   "cell_type": "markdown",
   "metadata": {},
   "source": [
    "# Discrete Anomaly Detection"
   ]
  },
  {
   "cell_type": "code",
   "execution_count": 1,
   "metadata": {},
   "outputs": [],
   "source": [
    "import numpy as np\n",
    "import pandas as pd\n",
    "import matplotlib.pyplot as plt\n",
    "import matplotlib.dates as mdates\n",
    "from matplotlib import style\n",
    "import seaborn as sns\n",
    "%matplotlib inline\n",
    "\n",
    "import main\n",
    "\n",
    "from acquire import get_log_data\n",
    "from prepare import prep_log_data, ip_statistics, ip_status_proabilities, eda_log_data\n",
    "\n",
    "import warnings\n",
    "warnings.filterwarnings(\"ignore\")"
   ]
  },
  {
   "cell_type": "code",
   "execution_count": 2,
   "metadata": {},
   "outputs": [],
   "source": [
    "df = get_log_data()\n",
    "df = prep_log_data(df)"
   ]
  },
  {
   "cell_type": "code",
   "execution_count": 3,
   "metadata": {},
   "outputs": [
    {
     "data": {
      "text/html": [
       "<div>\n",
       "<style scoped>\n",
       "    .dataframe tbody tr th:only-of-type {\n",
       "        vertical-align: middle;\n",
       "    }\n",
       "\n",
       "    .dataframe tbody tr th {\n",
       "        vertical-align: top;\n",
       "    }\n",
       "\n",
       "    .dataframe thead th {\n",
       "        text-align: right;\n",
       "    }\n",
       "</style>\n",
       "<table border=\"1\" class=\"dataframe\">\n",
       "  <thead>\n",
       "    <tr style=\"text-align: right;\">\n",
       "      <th></th>\n",
       "      <th>ip</th>\n",
       "      <th>request_method</th>\n",
       "      <th>status</th>\n",
       "      <th>size</th>\n",
       "      <th>destination</th>\n",
       "      <th>request_agent</th>\n",
       "      <th>agent_name</th>\n",
       "      <th>size_mb</th>\n",
       "      <th>download_size</th>\n",
       "      <th>ip_count</th>\n",
       "      <th>ip_probability</th>\n",
       "    </tr>\n",
       "    <tr>\n",
       "      <th>timestamp</th>\n",
       "      <th></th>\n",
       "      <th></th>\n",
       "      <th></th>\n",
       "      <th></th>\n",
       "      <th></th>\n",
       "      <th></th>\n",
       "      <th></th>\n",
       "      <th></th>\n",
       "      <th></th>\n",
       "      <th></th>\n",
       "      <th></th>\n",
       "    </tr>\n",
       "  </thead>\n",
       "  <tbody>\n",
       "    <tr>\n",
       "      <th>2019-04-16 19:34:42</th>\n",
       "      <td>97.105.19.58</td>\n",
       "      <td>GET /api/v1/sales HTTP/1.1</td>\n",
       "      <td>200</td>\n",
       "      <td>512495</td>\n",
       "      <td>NaN</td>\n",
       "      <td>python-requests/2.21.0</td>\n",
       "      <td>python</td>\n",
       "      <td>0.488753</td>\n",
       "      <td>Low</td>\n",
       "      <td>11999</td>\n",
       "      <td>0.85842</td>\n",
       "    </tr>\n",
       "    <tr>\n",
       "      <th>2019-04-16 19:34:42</th>\n",
       "      <td>97.105.19.58</td>\n",
       "      <td>GET /api/v1/items HTTP/1.1</td>\n",
       "      <td>200</td>\n",
       "      <td>3561</td>\n",
       "      <td>NaN</td>\n",
       "      <td>python-requests/2.21.0</td>\n",
       "      <td>python</td>\n",
       "      <td>0.003396</td>\n",
       "      <td>Low</td>\n",
       "      <td>11999</td>\n",
       "      <td>0.85842</td>\n",
       "    </tr>\n",
       "    <tr>\n",
       "      <th>2019-04-16 19:34:44</th>\n",
       "      <td>97.105.19.58</td>\n",
       "      <td>GET /api/v1/sales HTTP/1.1</td>\n",
       "      <td>200</td>\n",
       "      <td>510103</td>\n",
       "      <td>NaN</td>\n",
       "      <td>python-requests/2.21.0</td>\n",
       "      <td>python</td>\n",
       "      <td>0.486472</td>\n",
       "      <td>Low</td>\n",
       "      <td>11999</td>\n",
       "      <td>0.85842</td>\n",
       "    </tr>\n",
       "    <tr>\n",
       "      <th>2019-04-16 19:34:46</th>\n",
       "      <td>97.105.19.58</td>\n",
       "      <td>GET /api/v1/sales HTTP/1.1</td>\n",
       "      <td>200</td>\n",
       "      <td>510003</td>\n",
       "      <td>NaN</td>\n",
       "      <td>python-requests/2.21.0</td>\n",
       "      <td>python</td>\n",
       "      <td>0.486377</td>\n",
       "      <td>Low</td>\n",
       "      <td>11999</td>\n",
       "      <td>0.85842</td>\n",
       "    </tr>\n",
       "    <tr>\n",
       "      <th>2019-04-16 19:34:48</th>\n",
       "      <td>97.105.19.58</td>\n",
       "      <td>GET /api/v1/sales HTTP/1.1</td>\n",
       "      <td>200</td>\n",
       "      <td>511963</td>\n",
       "      <td>NaN</td>\n",
       "      <td>python-requests/2.21.0</td>\n",
       "      <td>python</td>\n",
       "      <td>0.488246</td>\n",
       "      <td>Low</td>\n",
       "      <td>11999</td>\n",
       "      <td>0.85842</td>\n",
       "    </tr>\n",
       "  </tbody>\n",
       "</table>\n",
       "</div>"
      ],
      "text/plain": [
       "                               ip              request_method  status    size  \\\n",
       "timestamp                                                                       \n",
       "2019-04-16 19:34:42  97.105.19.58  GET /api/v1/sales HTTP/1.1     200  512495   \n",
       "2019-04-16 19:34:42  97.105.19.58  GET /api/v1/items HTTP/1.1     200    3561   \n",
       "2019-04-16 19:34:44  97.105.19.58  GET /api/v1/sales HTTP/1.1     200  510103   \n",
       "2019-04-16 19:34:46  97.105.19.58  GET /api/v1/sales HTTP/1.1     200  510003   \n",
       "2019-04-16 19:34:48  97.105.19.58  GET /api/v1/sales HTTP/1.1     200  511963   \n",
       "\n",
       "                    destination           request_agent agent_name   size_mb  \\\n",
       "timestamp                                                                      \n",
       "2019-04-16 19:34:42         NaN  python-requests/2.21.0     python  0.488753   \n",
       "2019-04-16 19:34:42         NaN  python-requests/2.21.0     python  0.003396   \n",
       "2019-04-16 19:34:44         NaN  python-requests/2.21.0     python  0.486472   \n",
       "2019-04-16 19:34:46         NaN  python-requests/2.21.0     python  0.486377   \n",
       "2019-04-16 19:34:48         NaN  python-requests/2.21.0     python  0.488246   \n",
       "\n",
       "                    download_size  ip_count  ip_probability  \n",
       "timestamp                                                    \n",
       "2019-04-16 19:34:42           Low     11999         0.85842  \n",
       "2019-04-16 19:34:42           Low     11999         0.85842  \n",
       "2019-04-16 19:34:44           Low     11999         0.85842  \n",
       "2019-04-16 19:34:46           Low     11999         0.85842  \n",
       "2019-04-16 19:34:48           Low     11999         0.85842  "
      ]
     },
     "execution_count": 3,
     "metadata": {},
     "output_type": "execute_result"
    }
   ],
   "source": [
    "df.head()"
   ]
  },
  {
   "cell_type": "code",
   "execution_count": 4,
   "metadata": {},
   "outputs": [
    {
     "name": "stdout",
     "output_type": "stream",
     "text": [
      "<class 'pandas.core.frame.DataFrame'>\n",
      "DatetimeIndex: 13978 entries, 2019-04-16 19:34:42 to 2019-04-21 10:02:41\n",
      "Data columns (total 11 columns):\n",
      " #   Column          Non-Null Count  Dtype   \n",
      "---  ------          --------------  -----   \n",
      " 0   ip              13978 non-null  object  \n",
      " 1   request_method  13978 non-null  object  \n",
      " 2   status          13978 non-null  int64   \n",
      " 3   size            13978 non-null  int64   \n",
      " 4   destination     25 non-null     object  \n",
      " 5   request_agent   13978 non-null  object  \n",
      " 6   agent_name      13978 non-null  object  \n",
      " 7   size_mb         13978 non-null  float64 \n",
      " 8   download_size   13978 non-null  category\n",
      " 9   ip_count        13978 non-null  int64   \n",
      " 10  ip_probability  13978 non-null  float64 \n",
      "dtypes: category(1), float64(2), int64(3), object(5)\n",
      "memory usage: 1.2+ MB\n"
     ]
    }
   ],
   "source": [
    "df.info()"
   ]
  },
  {
   "cell_type": "code",
   "execution_count": 5,
   "metadata": {},
   "outputs": [
    {
     "data": {
      "text/html": [
       "<div>\n",
       "<style scoped>\n",
       "    .dataframe tbody tr th:only-of-type {\n",
       "        vertical-align: middle;\n",
       "    }\n",
       "\n",
       "    .dataframe tbody tr th {\n",
       "        vertical-align: top;\n",
       "    }\n",
       "\n",
       "    .dataframe thead th {\n",
       "        text-align: right;\n",
       "    }\n",
       "</style>\n",
       "<table border=\"1\" class=\"dataframe\">\n",
       "  <thead>\n",
       "    <tr style=\"text-align: right;\">\n",
       "      <th></th>\n",
       "      <th>ip</th>\n",
       "      <th>ip_count</th>\n",
       "      <th>ip_probability</th>\n",
       "    </tr>\n",
       "  </thead>\n",
       "  <tbody>\n",
       "    <tr>\n",
       "      <th>0</th>\n",
       "      <td>97.105.19.58</td>\n",
       "      <td>11999</td>\n",
       "      <td>0.858420</td>\n",
       "    </tr>\n",
       "    <tr>\n",
       "      <th>1</th>\n",
       "      <td>173.173.113.51</td>\n",
       "      <td>1059</td>\n",
       "      <td>0.075762</td>\n",
       "    </tr>\n",
       "    <tr>\n",
       "      <th>2</th>\n",
       "      <td>72.181.113.170</td>\n",
       "      <td>613</td>\n",
       "      <td>0.043855</td>\n",
       "    </tr>\n",
       "    <tr>\n",
       "      <th>3</th>\n",
       "      <td>72.181.105.81</td>\n",
       "      <td>246</td>\n",
       "      <td>0.017599</td>\n",
       "    </tr>\n",
       "    <tr>\n",
       "      <th>4</th>\n",
       "      <td>68.201.219.223</td>\n",
       "      <td>21</td>\n",
       "      <td>0.001502</td>\n",
       "    </tr>\n",
       "    <tr>\n",
       "      <th>5</th>\n",
       "      <td>24.26.242.9</td>\n",
       "      <td>21</td>\n",
       "      <td>0.001502</td>\n",
       "    </tr>\n",
       "    <tr>\n",
       "      <th>6</th>\n",
       "      <td>52.87.230.102</td>\n",
       "      <td>2</td>\n",
       "      <td>0.000143</td>\n",
       "    </tr>\n",
       "    <tr>\n",
       "      <th>7</th>\n",
       "      <td>35.175.171.137</td>\n",
       "      <td>2</td>\n",
       "      <td>0.000143</td>\n",
       "    </tr>\n",
       "    <tr>\n",
       "      <th>8</th>\n",
       "      <td>70.121.214.34</td>\n",
       "      <td>2</td>\n",
       "      <td>0.000143</td>\n",
       "    </tr>\n",
       "    <tr>\n",
       "      <th>9</th>\n",
       "      <td>95.31.16.121</td>\n",
       "      <td>1</td>\n",
       "      <td>0.000072</td>\n",
       "    </tr>\n",
       "    <tr>\n",
       "      <th>10</th>\n",
       "      <td>52.90.165.200</td>\n",
       "      <td>1</td>\n",
       "      <td>0.000072</td>\n",
       "    </tr>\n",
       "    <tr>\n",
       "      <th>11</th>\n",
       "      <td>97.105.15.120</td>\n",
       "      <td>1</td>\n",
       "      <td>0.000072</td>\n",
       "    </tr>\n",
       "    <tr>\n",
       "      <th>12</th>\n",
       "      <td>95.31.18.119</td>\n",
       "      <td>1</td>\n",
       "      <td>0.000072</td>\n",
       "    </tr>\n",
       "    <tr>\n",
       "      <th>13</th>\n",
       "      <td>54.172.14.223</td>\n",
       "      <td>1</td>\n",
       "      <td>0.000072</td>\n",
       "    </tr>\n",
       "    <tr>\n",
       "      <th>14</th>\n",
       "      <td>3.88.129.158</td>\n",
       "      <td>1</td>\n",
       "      <td>0.000072</td>\n",
       "    </tr>\n",
       "    <tr>\n",
       "      <th>15</th>\n",
       "      <td>3.92.201.136</td>\n",
       "      <td>1</td>\n",
       "      <td>0.000072</td>\n",
       "    </tr>\n",
       "    <tr>\n",
       "      <th>16</th>\n",
       "      <td>34.207.64.242</td>\n",
       "      <td>1</td>\n",
       "      <td>0.000072</td>\n",
       "    </tr>\n",
       "    <tr>\n",
       "      <th>17</th>\n",
       "      <td>52.91.30.150</td>\n",
       "      <td>1</td>\n",
       "      <td>0.000072</td>\n",
       "    </tr>\n",
       "    <tr>\n",
       "      <th>18</th>\n",
       "      <td>34.229.70.250</td>\n",
       "      <td>1</td>\n",
       "      <td>0.000072</td>\n",
       "    </tr>\n",
       "    <tr>\n",
       "      <th>19</th>\n",
       "      <td>45.23.250.16</td>\n",
       "      <td>1</td>\n",
       "      <td>0.000072</td>\n",
       "    </tr>\n",
       "    <tr>\n",
       "      <th>20</th>\n",
       "      <td>35.174.209.2</td>\n",
       "      <td>1</td>\n",
       "      <td>0.000072</td>\n",
       "    </tr>\n",
       "    <tr>\n",
       "      <th>21</th>\n",
       "      <td>54.145.52.184</td>\n",
       "      <td>1</td>\n",
       "      <td>0.000072</td>\n",
       "    </tr>\n",
       "  </tbody>\n",
       "</table>\n",
       "</div>"
      ],
      "text/plain": [
       "                ip  ip_count  ip_probability\n",
       "0     97.105.19.58     11999        0.858420\n",
       "1   173.173.113.51      1059        0.075762\n",
       "2   72.181.113.170       613        0.043855\n",
       "3    72.181.105.81       246        0.017599\n",
       "4   68.201.219.223        21        0.001502\n",
       "5      24.26.242.9        21        0.001502\n",
       "6    52.87.230.102         2        0.000143\n",
       "7   35.175.171.137         2        0.000143\n",
       "8    70.121.214.34         2        0.000143\n",
       "9     95.31.16.121         1        0.000072\n",
       "10   52.90.165.200         1        0.000072\n",
       "11   97.105.15.120         1        0.000072\n",
       "12    95.31.18.119         1        0.000072\n",
       "13   54.172.14.223         1        0.000072\n",
       "14    3.88.129.158         1        0.000072\n",
       "15    3.92.201.136         1        0.000072\n",
       "16   34.207.64.242         1        0.000072\n",
       "17    52.91.30.150         1        0.000072\n",
       "18   34.229.70.250         1        0.000072\n",
       "19    45.23.250.16         1        0.000072\n",
       "20    35.174.209.2         1        0.000072\n",
       "21   54.145.52.184         1        0.000072"
      ]
     },
     "execution_count": 5,
     "metadata": {},
     "output_type": "execute_result"
    }
   ],
   "source": [
    "ip_statistics(df)"
   ]
  },
  {
   "cell_type": "markdown",
   "metadata": {},
   "source": [
    "## 1. Use basic probability to identify anomalous request methods. You will want to make sure the text is normalized in order to reduce the noise."
   ]
  },
  {
   "cell_type": "code",
   "execution_count": 6,
   "metadata": {},
   "outputs": [],
   "source": [
    "train = df.loc['2019-04-16 19:34:42':'2019-04-17 12:55:14'][['ip','request_method','status','size','destination','request_agent','size_mb']]"
   ]
  },
  {
   "cell_type": "code",
   "execution_count": 7,
   "metadata": {},
   "outputs": [],
   "source": [
    "train = train.fillna(0)"
   ]
  },
  {
   "cell_type": "code",
   "execution_count": 8,
   "metadata": {},
   "outputs": [
    {
     "data": {
      "image/png": "[encoded data removed]",
      "text/plain": [
       "<Figure size 936x504 with 4 Axes>"
      ]
     },
     "metadata": {
      "needs_background": "light"
     },
     "output_type": "display_data"
    }
   ],
   "source": [
    "train.hist(figsize=(13, 7))\n",
    "plt.tight_layout();"
   ]
  },
  {
   "cell_type": "code",
   "execution_count": 9,
   "metadata": {},
   "outputs": [
    {
     "data": {
      "text/html": [
       "<div>\n",
       "<style scoped>\n",
       "    .dataframe tbody tr th:only-of-type {\n",
       "        vertical-align: middle;\n",
       "    }\n",
       "\n",
       "    .dataframe tbody tr th {\n",
       "        vertical-align: top;\n",
       "    }\n",
       "\n",
       "    .dataframe thead th {\n",
       "        text-align: right;\n",
       "    }\n",
       "</style>\n",
       "<table border=\"1\" class=\"dataframe\">\n",
       "  <thead>\n",
       "    <tr style=\"text-align: right;\">\n",
       "      <th></th>\n",
       "      <th>ip</th>\n",
       "      <th>ip_count</th>\n",
       "      <th>ip_probability</th>\n",
       "    </tr>\n",
       "  </thead>\n",
       "  <tbody>\n",
       "    <tr>\n",
       "      <th>0</th>\n",
       "      <td>97.105.19.58</td>\n",
       "      <td>11998</td>\n",
       "      <td>0.858595</td>\n",
       "    </tr>\n",
       "    <tr>\n",
       "      <th>1</th>\n",
       "      <td>173.173.113.51</td>\n",
       "      <td>1059</td>\n",
       "      <td>0.075784</td>\n",
       "    </tr>\n",
       "    <tr>\n",
       "      <th>2</th>\n",
       "      <td>72.181.113.170</td>\n",
       "      <td>613</td>\n",
       "      <td>0.043867</td>\n",
       "    </tr>\n",
       "    <tr>\n",
       "      <th>3</th>\n",
       "      <td>72.181.105.81</td>\n",
       "      <td>246</td>\n",
       "      <td>0.017604</td>\n",
       "    </tr>\n",
       "    <tr>\n",
       "      <th>4</th>\n",
       "      <td>68.201.219.223</td>\n",
       "      <td>21</td>\n",
       "      <td>0.001503</td>\n",
       "    </tr>\n",
       "    <tr>\n",
       "      <th>5</th>\n",
       "      <td>24.26.242.9</td>\n",
       "      <td>21</td>\n",
       "      <td>0.001503</td>\n",
       "    </tr>\n",
       "    <tr>\n",
       "      <th>6</th>\n",
       "      <td>52.87.230.102</td>\n",
       "      <td>2</td>\n",
       "      <td>0.000143</td>\n",
       "    </tr>\n",
       "    <tr>\n",
       "      <th>7</th>\n",
       "      <td>35.175.171.137</td>\n",
       "      <td>2</td>\n",
       "      <td>0.000143</td>\n",
       "    </tr>\n",
       "    <tr>\n",
       "      <th>8</th>\n",
       "      <td>70.121.214.34</td>\n",
       "      <td>2</td>\n",
       "      <td>0.000143</td>\n",
       "    </tr>\n",
       "    <tr>\n",
       "      <th>9</th>\n",
       "      <td>3.92.201.136</td>\n",
       "      <td>1</td>\n",
       "      <td>0.000072</td>\n",
       "    </tr>\n",
       "    <tr>\n",
       "      <th>10</th>\n",
       "      <td>3.88.129.158</td>\n",
       "      <td>1</td>\n",
       "      <td>0.000072</td>\n",
       "    </tr>\n",
       "    <tr>\n",
       "      <th>11</th>\n",
       "      <td>52.90.165.200</td>\n",
       "      <td>1</td>\n",
       "      <td>0.000072</td>\n",
       "    </tr>\n",
       "    <tr>\n",
       "      <th>12</th>\n",
       "      <td>34.207.64.242</td>\n",
       "      <td>1</td>\n",
       "      <td>0.000072</td>\n",
       "    </tr>\n",
       "    <tr>\n",
       "      <th>13</th>\n",
       "      <td>54.172.14.223</td>\n",
       "      <td>1</td>\n",
       "      <td>0.000072</td>\n",
       "    </tr>\n",
       "    <tr>\n",
       "      <th>14</th>\n",
       "      <td>35.174.209.2</td>\n",
       "      <td>1</td>\n",
       "      <td>0.000072</td>\n",
       "    </tr>\n",
       "    <tr>\n",
       "      <th>15</th>\n",
       "      <td>52.91.30.150</td>\n",
       "      <td>1</td>\n",
       "      <td>0.000072</td>\n",
       "    </tr>\n",
       "    <tr>\n",
       "      <th>16</th>\n",
       "      <td>34.229.70.250</td>\n",
       "      <td>1</td>\n",
       "      <td>0.000072</td>\n",
       "    </tr>\n",
       "    <tr>\n",
       "      <th>17</th>\n",
       "      <td>45.23.250.16</td>\n",
       "      <td>1</td>\n",
       "      <td>0.000072</td>\n",
       "    </tr>\n",
       "    <tr>\n",
       "      <th>18</th>\n",
       "      <td>54.145.52.184</td>\n",
       "      <td>1</td>\n",
       "      <td>0.000072</td>\n",
       "    </tr>\n",
       "  </tbody>\n",
       "</table>\n",
       "</div>"
      ],
      "text/plain": [
       "                ip  ip_count  ip_probability\n",
       "0     97.105.19.58     11998        0.858595\n",
       "1   173.173.113.51      1059        0.075784\n",
       "2   72.181.113.170       613        0.043867\n",
       "3    72.181.105.81       246        0.017604\n",
       "4   68.201.219.223        21        0.001503\n",
       "5      24.26.242.9        21        0.001503\n",
       "6    52.87.230.102         2        0.000143\n",
       "7   35.175.171.137         2        0.000143\n",
       "8    70.121.214.34         2        0.000143\n",
       "9     3.92.201.136         1        0.000072\n",
       "10    3.88.129.158         1        0.000072\n",
       "11   52.90.165.200         1        0.000072\n",
       "12   34.207.64.242         1        0.000072\n",
       "13   54.172.14.223         1        0.000072\n",
       "14    35.174.209.2         1        0.000072\n",
       "15    52.91.30.150         1        0.000072\n",
       "16   34.229.70.250         1        0.000072\n",
       "17    45.23.250.16         1        0.000072\n",
       "18   54.145.52.184         1        0.000072"
      ]
     },
     "execution_count": 9,
     "metadata": {},
     "output_type": "execute_result"
    }
   ],
   "source": [
    "ip_statistics(train)"
   ]
  },
  {
   "cell_type": "code",
   "execution_count": 10,
   "metadata": {},
   "outputs": [],
   "source": [
    "df = eda_log_data(train, df)"
   ]
  },
  {
   "cell_type": "code",
   "execution_count": 11,
   "metadata": {},
   "outputs": [
    {
     "data": {
      "image/png": "[encoded data removed]",
      "text/plain": [
       "<Figure size 936x504 with 1 Axes>"
      ]
     },
     "metadata": {
      "needs_background": "light"
     },
     "output_type": "display_data"
    }
   ],
   "source": [
    "plt.figure(figsize=(13, 7))\n",
    "sns.scatterplot(df.ip_probability,\n",
    "                df.prob_status_given_ip,\n",
    "                hue=df.status,\n",
    "                palette='Set1')\n",
    "\n",
    "plt.title('Of the ip addresses requesting data from python.zach.lol\\nwhich encounter bad requests?')\n",
    "plt.xlabel('ip probability')\n",
    "plt.ylabel('probability of status given an ip address')\n",
    "plt.axhline(y=.5, linestyle='--')\n",
    "plt.axvline(x=.5, linestyle='--')\n",
    "plt.legend(loc='center left')\n",
    "plt.text(0.3, 1.01, 'infrequent visitors', horizontalalignment='right', verticalalignment='center', fontsize=12)\n",
    "plt.text(0.65, 1.01, 'frequent visitors', horizontalalignment='left', verticalalignment='center', fontsize=12);"
   ]
  },
  {
   "cell_type": "code",
   "execution_count": 12,
   "metadata": {},
   "outputs": [
    {
     "data": {
      "text/html": [
       "<div>\n",
       "<style scoped>\n",
       "    .dataframe tbody tr th:only-of-type {\n",
       "        vertical-align: middle;\n",
       "    }\n",
       "\n",
       "    .dataframe tbody tr th {\n",
       "        vertical-align: top;\n",
       "    }\n",
       "\n",
       "    .dataframe thead th {\n",
       "        text-align: right;\n",
       "    }\n",
       "</style>\n",
       "<table border=\"1\" class=\"dataframe\">\n",
       "  <thead>\n",
       "    <tr style=\"text-align: right;\">\n",
       "      <th></th>\n",
       "      <th>ip</th>\n",
       "      <th>request_method</th>\n",
       "      <th>status</th>\n",
       "      <th>size</th>\n",
       "      <th>destination</th>\n",
       "      <th>request_agent</th>\n",
       "      <th>size_mb</th>\n",
       "    </tr>\n",
       "    <tr>\n",
       "      <th>timestamp</th>\n",
       "      <th></th>\n",
       "      <th></th>\n",
       "      <th></th>\n",
       "      <th></th>\n",
       "      <th></th>\n",
       "      <th></th>\n",
       "      <th></th>\n",
       "    </tr>\n",
       "  </thead>\n",
       "  <tbody>\n",
       "    <tr>\n",
       "      <th>2019-04-16 19:34:42</th>\n",
       "      <td>97.105.19.58</td>\n",
       "      <td>GET /api/v1/sales HTTP/1.1</td>\n",
       "      <td>200</td>\n",
       "      <td>512495</td>\n",
       "      <td>0</td>\n",
       "      <td>python-requests/2.21.0</td>\n",
       "      <td>0.488753</td>\n",
       "    </tr>\n",
       "    <tr>\n",
       "      <th>2019-04-16 19:34:42</th>\n",
       "      <td>97.105.19.58</td>\n",
       "      <td>GET /api/v1/items HTTP/1.1</td>\n",
       "      <td>200</td>\n",
       "      <td>3561</td>\n",
       "      <td>0</td>\n",
       "      <td>python-requests/2.21.0</td>\n",
       "      <td>0.003396</td>\n",
       "    </tr>\n",
       "    <tr>\n",
       "      <th>2019-04-16 19:34:44</th>\n",
       "      <td>97.105.19.58</td>\n",
       "      <td>GET /api/v1/sales HTTP/1.1</td>\n",
       "      <td>200</td>\n",
       "      <td>510103</td>\n",
       "      <td>0</td>\n",
       "      <td>python-requests/2.21.0</td>\n",
       "      <td>0.486472</td>\n",
       "    </tr>\n",
       "    <tr>\n",
       "      <th>2019-04-16 19:34:46</th>\n",
       "      <td>97.105.19.58</td>\n",
       "      <td>GET /api/v1/sales HTTP/1.1</td>\n",
       "      <td>200</td>\n",
       "      <td>510003</td>\n",
       "      <td>0</td>\n",
       "      <td>python-requests/2.21.0</td>\n",
       "      <td>0.486377</td>\n",
       "    </tr>\n",
       "    <tr>\n",
       "      <th>2019-04-16 19:34:48</th>\n",
       "      <td>97.105.19.58</td>\n",
       "      <td>GET /api/v1/sales HTTP/1.1</td>\n",
       "      <td>200</td>\n",
       "      <td>511963</td>\n",
       "      <td>0</td>\n",
       "      <td>python-requests/2.21.0</td>\n",
       "      <td>0.488246</td>\n",
       "    </tr>\n",
       "  </tbody>\n",
       "</table>\n",
       "</div>"
      ],
      "text/plain": [
       "                               ip              request_method  status    size  \\\n",
       "timestamp                                                                       \n",
       "2019-04-16 19:34:42  97.105.19.58  GET /api/v1/sales HTTP/1.1     200  512495   \n",
       "2019-04-16 19:34:42  97.105.19.58  GET /api/v1/items HTTP/1.1     200    3561   \n",
       "2019-04-16 19:34:44  97.105.19.58  GET /api/v1/sales HTTP/1.1     200  510103   \n",
       "2019-04-16 19:34:46  97.105.19.58  GET /api/v1/sales HTTP/1.1     200  510003   \n",
       "2019-04-16 19:34:48  97.105.19.58  GET /api/v1/sales HTTP/1.1     200  511963   \n",
       "\n",
       "                    destination           request_agent   size_mb  \n",
       "timestamp                                                          \n",
       "2019-04-16 19:34:42           0  python-requests/2.21.0  0.488753  \n",
       "2019-04-16 19:34:42           0  python-requests/2.21.0  0.003396  \n",
       "2019-04-16 19:34:44           0  python-requests/2.21.0  0.486472  \n",
       "2019-04-16 19:34:46           0  python-requests/2.21.0  0.486377  \n",
       "2019-04-16 19:34:48           0  python-requests/2.21.0  0.488246  "
      ]
     },
     "execution_count": 12,
     "metadata": {},
     "output_type": "execute_result"
    }
   ],
   "source": [
    "train.head()"
   ]
  },
  {
   "cell_type": "code",
   "execution_count": 13,
   "metadata": {},
   "outputs": [],
   "source": [
    "df['download_size'] = pd.cut(df.size_mb, 3, labels=['Low', 'Average', 'High'])"
   ]
  },
  {
   "cell_type": "code",
   "execution_count": 15,
   "metadata": {},
   "outputs": [
    {
     "data": {
      "text/html": [
       "<div>\n",
       "<style scoped>\n",
       "    .dataframe tbody tr th:only-of-type {\n",
       "        vertical-align: middle;\n",
       "    }\n",
       "\n",
       "    .dataframe tbody tr th {\n",
       "        vertical-align: top;\n",
       "    }\n",
       "\n",
       "    .dataframe thead th {\n",
       "        text-align: right;\n",
       "    }\n",
       "</style>\n",
       "<table border=\"1\" class=\"dataframe\">\n",
       "  <thead>\n",
       "    <tr style=\"text-align: right;\">\n",
       "      <th></th>\n",
       "      <th>ip</th>\n",
       "      <th>request_method</th>\n",
       "      <th>status</th>\n",
       "      <th>size</th>\n",
       "      <th>destination</th>\n",
       "      <th>request_agent</th>\n",
       "      <th>agent_name</th>\n",
       "      <th>size_mb</th>\n",
       "      <th>download_size</th>\n",
       "      <th>ip_count</th>\n",
       "      <th>ip_probability</th>\n",
       "      <th>ip_status_count</th>\n",
       "      <th>prob_status_given_ip</th>\n",
       "    </tr>\n",
       "    <tr>\n",
       "      <th>timestamp</th>\n",
       "      <th></th>\n",
       "      <th></th>\n",
       "      <th></th>\n",
       "      <th></th>\n",
       "      <th></th>\n",
       "      <th></th>\n",
       "      <th></th>\n",
       "      <th></th>\n",
       "      <th></th>\n",
       "      <th></th>\n",
       "      <th></th>\n",
       "      <th></th>\n",
       "      <th></th>\n",
       "    </tr>\n",
       "  </thead>\n",
       "  <tbody>\n",
       "    <tr>\n",
       "      <th>2019-04-16 19:34:42</th>\n",
       "      <td>97.105.19.58</td>\n",
       "      <td>GET /api/v1/sales HTTP/1.1</td>\n",
       "      <td>200</td>\n",
       "      <td>512495</td>\n",
       "      <td>NaN</td>\n",
       "      <td>python-requests/2.21.0</td>\n",
       "      <td>python</td>\n",
       "      <td>0.488753</td>\n",
       "      <td>Low</td>\n",
       "      <td>11999</td>\n",
       "      <td>0.85842</td>\n",
       "      <td>11984.0</td>\n",
       "      <td>0.998833</td>\n",
       "    </tr>\n",
       "    <tr>\n",
       "      <th>2019-04-16 19:34:42</th>\n",
       "      <td>97.105.19.58</td>\n",
       "      <td>GET /api/v1/items HTTP/1.1</td>\n",
       "      <td>200</td>\n",
       "      <td>3561</td>\n",
       "      <td>NaN</td>\n",
       "      <td>python-requests/2.21.0</td>\n",
       "      <td>python</td>\n",
       "      <td>0.003396</td>\n",
       "      <td>Low</td>\n",
       "      <td>11999</td>\n",
       "      <td>0.85842</td>\n",
       "      <td>11984.0</td>\n",
       "      <td>0.998833</td>\n",
       "    </tr>\n",
       "    <tr>\n",
       "      <th>2019-04-16 19:34:44</th>\n",
       "      <td>97.105.19.58</td>\n",
       "      <td>GET /api/v1/sales HTTP/1.1</td>\n",
       "      <td>200</td>\n",
       "      <td>510103</td>\n",
       "      <td>NaN</td>\n",
       "      <td>python-requests/2.21.0</td>\n",
       "      <td>python</td>\n",
       "      <td>0.486472</td>\n",
       "      <td>Low</td>\n",
       "      <td>11999</td>\n",
       "      <td>0.85842</td>\n",
       "      <td>11984.0</td>\n",
       "      <td>0.998833</td>\n",
       "    </tr>\n",
       "    <tr>\n",
       "      <th>2019-04-16 19:34:46</th>\n",
       "      <td>97.105.19.58</td>\n",
       "      <td>GET /api/v1/sales HTTP/1.1</td>\n",
       "      <td>200</td>\n",
       "      <td>510003</td>\n",
       "      <td>NaN</td>\n",
       "      <td>python-requests/2.21.0</td>\n",
       "      <td>python</td>\n",
       "      <td>0.486377</td>\n",
       "      <td>Low</td>\n",
       "      <td>11999</td>\n",
       "      <td>0.85842</td>\n",
       "      <td>11984.0</td>\n",
       "      <td>0.998833</td>\n",
       "    </tr>\n",
       "    <tr>\n",
       "      <th>2019-04-16 19:34:48</th>\n",
       "      <td>97.105.19.58</td>\n",
       "      <td>GET /api/v1/sales HTTP/1.1</td>\n",
       "      <td>200</td>\n",
       "      <td>511963</td>\n",
       "      <td>NaN</td>\n",
       "      <td>python-requests/2.21.0</td>\n",
       "      <td>python</td>\n",
       "      <td>0.488246</td>\n",
       "      <td>Low</td>\n",
       "      <td>11999</td>\n",
       "      <td>0.85842</td>\n",
       "      <td>11984.0</td>\n",
       "      <td>0.998833</td>\n",
       "    </tr>\n",
       "  </tbody>\n",
       "</table>\n",
       "</div>"
      ],
      "text/plain": [
       "                               ip              request_method  status    size  \\\n",
       "timestamp                                                                       \n",
       "2019-04-16 19:34:42  97.105.19.58  GET /api/v1/sales HTTP/1.1     200  512495   \n",
       "2019-04-16 19:34:42  97.105.19.58  GET /api/v1/items HTTP/1.1     200    3561   \n",
       "2019-04-16 19:34:44  97.105.19.58  GET /api/v1/sales HTTP/1.1     200  510103   \n",
       "2019-04-16 19:34:46  97.105.19.58  GET /api/v1/sales HTTP/1.1     200  510003   \n",
       "2019-04-16 19:34:48  97.105.19.58  GET /api/v1/sales HTTP/1.1     200  511963   \n",
       "\n",
       "                    destination           request_agent agent_name   size_mb  \\\n",
       "timestamp                                                                      \n",
       "2019-04-16 19:34:42         NaN  python-requests/2.21.0     python  0.488753   \n",
       "2019-04-16 19:34:42         NaN  python-requests/2.21.0     python  0.003396   \n",
       "2019-04-16 19:34:44         NaN  python-requests/2.21.0     python  0.486472   \n",
       "2019-04-16 19:34:46         NaN  python-requests/2.21.0     python  0.486377   \n",
       "2019-04-16 19:34:48         NaN  python-requests/2.21.0     python  0.488246   \n",
       "\n",
       "                    download_size  ip_count  ip_probability  ip_status_count  \\\n",
       "timestamp                                                                      \n",
       "2019-04-16 19:34:42           Low     11999         0.85842          11984.0   \n",
       "2019-04-16 19:34:42           Low     11999         0.85842          11984.0   \n",
       "2019-04-16 19:34:44           Low     11999         0.85842          11984.0   \n",
       "2019-04-16 19:34:46           Low     11999         0.85842          11984.0   \n",
       "2019-04-16 19:34:48           Low     11999         0.85842          11984.0   \n",
       "\n",
       "                     prob_status_given_ip  \n",
       "timestamp                                  \n",
       "2019-04-16 19:34:42              0.998833  \n",
       "2019-04-16 19:34:42              0.998833  \n",
       "2019-04-16 19:34:44              0.998833  \n",
       "2019-04-16 19:34:46              0.998833  \n",
       "2019-04-16 19:34:48              0.998833  "
      ]
     },
     "execution_count": 15,
     "metadata": {},
     "output_type": "execute_result"
    }
   ],
   "source": [
    "df.head()"
   ]
  },
  {
   "cell_type": "code",
   "execution_count": 58,
   "metadata": {},
   "outputs": [
    {
     "data": {
      "text/plain": [
       "97.105.19.58      11999\n",
       "173.173.113.51     1059\n",
       "72.181.113.170      613\n",
       "72.181.105.81       246\n",
       "68.201.219.223       21\n",
       "24.26.242.9          21\n",
       "52.87.230.102         2\n",
       "35.175.171.137        2\n",
       "70.121.214.34         2\n",
       "95.31.16.121          1\n",
       "52.90.165.200         1\n",
       "97.105.15.120         1\n",
       "95.31.18.119          1\n",
       "54.172.14.223         1\n",
       "3.88.129.158          1\n",
       "3.92.201.136          1\n",
       "34.207.64.242         1\n",
       "52.91.30.150          1\n",
       "34.229.70.250         1\n",
       "45.23.250.16          1\n",
       "35.174.209.2          1\n",
       "54.145.52.184         1\n",
       "Name: ip, dtype: int64"
      ]
     },
     "execution_count": 58,
     "metadata": {},
     "output_type": "execute_result"
    }
   ],
   "source": [
    "df.ip.value_counts()"
   ]
  },
  {
   "cell_type": "code",
   "execution_count": 56,
   "metadata": {},
   "outputs": [
    {
     "data": {
      "text/plain": [
       "GET /api/v1/sales HTTP/1.1                      12403\n",
       "GET /api/v1/items HTTP/1.1                       1065\n",
       "GET /api/v1/stores HTTP/1.1                       229\n",
       "GET / HTTP/1.1                                    107\n",
       "GET /documentation HTTP/1.1                       100\n",
       "GET /favicon.ico HTTP/1.1                          26\n",
       "GET /api/v1//api/v1/items HTTP/1.1                 11\n",
       "GET /api/v1/items/api/v1/items HTTP/1.1             7\n",
       "GET /api/v1/items/next_page HTTP/1.1                5\n",
       "GET /api/v1/ HTTP/1.1                               4\n",
       "GET /api/v1/sales/ HTTP/1.1                         3\n",
       "GET /api/v1/store HTTP/1.1                          3\n",
       "GET /api/v1/itemsitems HTTP/1.1                     3\n",
       "GET /api/v1/sales/HTTP/1.1                          3\n",
       "GET /api/v1items HTTP/1.1                           2\n",
       "GET /api/v1//api/v1/items/next_page HTTP/1.1        1\n",
       "GET /api/v1/items/HTTP/1.1                          1\n",
       "GET /api/v1/I_DIDNT_DO_IT!!!! HTTP/1.1              1\n",
       "GET /api/v1 HTTP/1.1                                1\n",
       "GET /api/v1/items&page=0 HTTP/1.1                   1\n",
       "GET /api/v1/helloclass! HTTP/1.1                    1\n",
       "GET /api/V1/HiZach! HTTP/1.1                        1\n",
       "Name: request_method, dtype: int64"
      ]
     },
     "execution_count": 56,
     "metadata": {},
     "output_type": "execute_result"
    }
   ],
   "source": [
    "df.request_method.value_counts()"
   ]
  },
  {
   "cell_type": "code",
   "execution_count": 14,
   "metadata": {},
   "outputs": [
    {
     "data": {
      "text/plain": [
       "<AxesSubplot:xlabel='ip_probability', ylabel='prob_status_given_ip'>"
      ]
     },
     "execution_count": 14,
     "metadata": {},
     "output_type": "execute_result"
    },
    {
     "data": {
      "image/png": "[encoded data removed]",
      "text/plain": [
       "<Figure size 936x504 with 1 Axes>"
      ]
     },
     "metadata": {
      "needs_background": "light"
     },
     "output_type": "display_data"
    }
   ],
   "source": [
    "plt.figure(figsize=(13, 7))\n",
    "sns.scatterplot(df.ip_probability,\n",
    "                df.prob_status_given_ip,\n",
    "                hue=df.download_size,\n",
    "                palette='Set1')"
   ]
  },
  {
   "cell_type": "code",
   "execution_count": 50,
   "metadata": {},
   "outputs": [
    {
     "data": {
      "text/plain": [
       "status  download_size\n",
       "200     Low              13958\n",
       "        Average              1\n",
       "        High                 1\n",
       "301     Low                  2\n",
       "        Average              0\n",
       "        High                 0\n",
       "499     Low                 16\n",
       "        Average              0\n",
       "        High                 0\n",
       "dtype: int64"
      ]
     },
     "execution_count": 50,
     "metadata": {},
     "output_type": "execute_result"
    }
   ],
   "source": [
    "df.groupby(by=['status', 'download_size']).size()"
   ]
  },
  {
   "cell_type": "code",
   "execution_count": 17,
   "metadata": {},
   "outputs": [
    {
     "data": {
      "text/plain": [
       "<AxesSubplot:xlabel='agent_name', ylabel='ip_probability'>"
      ]
     },
     "execution_count": 17,
     "metadata": {},
     "output_type": "execute_result"
    },
    {
     "data": {
      "image/png": "[encoded data removed]",
      "text/plain": [
       "<Figure size 432x288 with 1 Axes>"
      ]
     },
     "metadata": {
      "needs_background": "light"
     },
     "output_type": "display_data"
    }
   ],
   "source": [
    "sns.boxplot(df.agent_name, df.ip_probability)"
   ]
  },
  {
   "cell_type": "code",
   "execution_count": 18,
   "metadata": {},
   "outputs": [
    {
     "data": {
      "text/plain": [
       "<AxesSubplot:xlabel='agent_name', ylabel='prob_status_given_ip'>"
      ]
     },
     "execution_count": 18,
     "metadata": {},
     "output_type": "execute_result"
    },
    {
     "data": {
      "image/png": "[encoded data removed]",
      "text/plain": [
       "<Figure size 432x288 with 1 Axes>"
      ]
     },
     "metadata": {
      "needs_background": "light"
     },
     "output_type": "display_data"
    }
   ],
   "source": [
    "sns.boxplot(df.agent_name, df.prob_status_given_ip)"
   ]
  },
  {
   "cell_type": "code",
   "execution_count": 53,
   "metadata": {},
   "outputs": [
    {
     "data": {
      "text/plain": [
       "<AxesSubplot:xlabel='download_size', ylabel='agent_name'>"
      ]
     },
     "execution_count": 53,
     "metadata": {},
     "output_type": "execute_result"
    },
    {
     "data": {
      "image/png": "[encoded data removed]",
      "text/plain": [
       "<Figure size 432x288 with 2 Axes>"
      ]
     },
     "metadata": {
      "needs_background": "light"
     },
     "output_type": "display_data"
    }
   ],
   "source": [
    "sns.heatmap(pd.crosstab(df.agent_name, df.download_size),\n",
    "            cmap='coolwarm')"
   ]
  },
  {
   "cell_type": "code",
   "execution_count": 54,
   "metadata": {},
   "outputs": [
    {
     "data": {
      "text/plain": [
       "<AxesSubplot:xlabel='agent_name', ylabel='request_method'>"
      ]
     },
     "execution_count": 54,
     "metadata": {},
     "output_type": "execute_result"
    },
    {
     "data": {
      "image/png": "[encoded data removed]",
      "text/plain": [
       "<Figure size 432x288 with 2 Axes>"
      ]
     },
     "metadata": {
      "needs_background": "light"
     },
     "output_type": "display_data"
    }
   ],
   "source": [
    "sns.heatmap(pd.crosstab(df.request_method, df.agent_name),\n",
    "            cmap='coolwarm')"
   ]
  },
  {
   "cell_type": "code",
   "execution_count": 55,
   "metadata": {},
   "outputs": [
    {
     "data": {
      "text/plain": [
       "<AxesSubplot:xlabel='download_size', ylabel='request_method'>"
      ]
     },
     "execution_count": 55,
     "metadata": {},
     "output_type": "execute_result"
    },
    {
     "data": {
      "image/png": "[encoded data removed]",
      "text/plain": [
       "<Figure size 432x288 with 2 Axes>"
      ]
     },
     "metadata": {
      "needs_background": "light"
     },
     "output_type": "display_data"
    }
   ],
   "source": [
    "sns.heatmap(pd.crosstab(df.request_method, df.download_size),\n",
    "            cmap='coolwarm')"
   ]
  },
  {
   "cell_type": "code",
   "execution_count": 61,
   "metadata": {},
   "outputs": [
    {
     "data": {
      "text/plain": [
       "<AxesSubplot:xlabel='download_size', ylabel='ip'>"
      ]
     },
     "execution_count": 61,
     "metadata": {},
     "output_type": "execute_result"
    },
    {
     "data": {
      "image/png": "[encoded data removed]",
      "text/plain": [
       "<Figure size 432x288 with 2 Axes>"
      ]
     },
     "metadata": {
      "needs_background": "light"
     },
     "output_type": "display_data"
    }
   ],
   "source": [
    "sns.heatmap(pd.crosstab(df.ip, df.download_size),\n",
    "            cmap='coolwarm')"
   ]
  }
 ],
 "metadata": {
  "kernelspec": {
   "display_name": "Python 3",
   "language": "python",
   "name": "python3"
  },
  "language_info": {
   "codemirror_mode": {
    "name": "ipython",
    "version": 3
   },
   "file_extension": ".py",
   "mimetype": "text/x-python",
   "name": "python",
   "nbconvert_exporter": "python",
   "pygments_lexer": "ipython3",
   "version": "3.7.6"
  }
 },
 "nbformat": 4,
 "nbformat_minor": 4
}
